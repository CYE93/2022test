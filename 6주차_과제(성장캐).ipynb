{
  "nbformat": 4,
  "nbformat_minor": 0,
  "metadata": {
    "colab": {
      "name": "6주차 과제(성장캐).ipynb",
      "provenance": [],
      "authorship_tag": "ABX9TyMOUOjpWas116l2Z0hNAxo/",
      "include_colab_link": true
    },
    "kernelspec": {
      "name": "python3",
      "display_name": "Python 3"
    },
    "language_info": {
      "name": "python"
    }
  },
  "cells": [
    {
      "cell_type": "markdown",
      "metadata": {
        "id": "view-in-github",
        "colab_type": "text"
      },
      "source": [
        "<a href=\"https://colab.research.google.com/github/CYE93/2022test/blob/main/6%EC%A3%BC%EC%B0%A8_%EA%B3%BC%EC%A0%9C(%EC%84%B1%EC%9E%A5%EC%BA%90).ipynb\" target=\"_parent\"><img src=\"https://colab.research.google.com/assets/colab-badge.svg\" alt=\"Open In Colab\"/></a>"
      ]
    },
    {
      "cell_type": "markdown",
      "source": [
        "##사탕 나눠주기 프로그램\n",
        "####1. 궁금했던 점 : 간식 뽑기 프로그램을 생성해되, 숙제를 열심히 해 온 아이들에게 더 많은 확률을 줄 순 없을까?\n",
        "####2. 초안\n",
        "######1.영어 점수 파일을 csv로 로드\n",
        "######2.시험 점수가 5점 이상인 경우 당첨 확률 증가\n",
        "######3. 숙제를 해왔을 경우 당첨 확률 증가\n",
        "######4. 당첨인지 낙첨인지 확인"
      ],
      "metadata": {
        "id": "Dk2WYVmNXeip"
      }
    },
    {
      "cell_type": "code",
      "source": [
        "#실패과정, 도전\n",
        "\n",
        "list_luck = [1, 0, 0, 0, 0] #사탕을 받을 기본 확률 (20%)\n",
        "\n",
        "import time\n",
        "import random\n",
        "import csv\n",
        "data = csv.reader(open(\"3주.csv\",  encoding = \"cp949\"))\n",
        "next(data)\n",
        "\n",
        "input_name = input('이름을 입력하세요 : ')\n",
        "for d1 in data:\n",
        "  if d1[0] == input_name:\n",
        "    print('시험 점수는 {}점 입니다. 숙제 결과는 {}입니다.'.format(d1[1],d1[2]))\n",
        "\n",
        "if float(d1[1]) >= 5 :\n",
        "  list_luck.sort\n",
        "  list_luck.pop(1)\n",
        "  list_luck.append(1)\n",
        "\n",
        "if d1[2] == 'O' :\n",
        "  list_luck.sort\n",
        "  list_luck.pop(1)\n",
        "  list_luck.append(1)\n",
        "\n",
        "print(list_luck) #시험점수도 낮고 과제도 안 해온 전지현이 사탕을 받아, list_luck을 확인해봄"
      ],
      "metadata": {
        "colab": {
          "base_uri": "https://localhost:8080/"
        },
        "outputId": "7bce4732-499e-4ee3-eac2-2338f11db7f4",
        "id": "qBSlbSUuU6Hs"
      },
      "execution_count": 9,
      "outputs": [
        {
          "output_type": "stream",
          "name": "stdout",
          "text": [
            "이름을 입력하세요 : 전지현\n",
            "시험 점수는 2점 입니다. 숙제 결과는 X입니다.\n",
            "[1, 0, 0, 1, 1]\n"
          ]
        }
      ]
    },
    {
      "cell_type": "code",
      "source": [
        "#위의 list_luck에서 if 구문에 관계 없이 list_luck.pop(1)과 list_luck.append(1)이 실행됨을 알게됨.\n",
        "#이를 고치기 위해 and를 사용하기로 함.\n",
        "\n",
        "list_luck = [1, 0, 0, 0, 0] #사탕을 받을 기본 확률 (20%)\n",
        "\n",
        "import time\n",
        "import random\n",
        "import csv\n",
        "data = csv.reader(open(\"3주.csv\",  encoding = \"cp949\"))\n",
        "next(data)\n",
        "\n",
        "input_name = input('이름을 입력하세요 : ')\n",
        "for d1 in data:\n",
        "  if d1[0] == input_name:\n",
        "    print('시험 점수는 {}점 입니다. 숙제 결과는 {}입니다.'.format(d1[1],d1[2]))\n",
        "\n",
        "if float(d1[1]) >= 5 :\n",
        "  list_luck.sort() and list_luck.pop(1) and list_luck.append(1) # 점수가 5점보다 높을 경우에 이 과정을 거침\n",
        "\n",
        "if d1[2] == 'O' :\n",
        "  list_luck.sort() and list_luck.pop(1) and list_luck.append(1) # 숙제를 해왔을 때 위 결과를 거침\n",
        "\n",
        "print(list_luck) #전지현의 결과를 재확인"
      ],
      "metadata": {
        "colab": {
          "base_uri": "https://localhost:8080/"
        },
        "id": "5ThbQuGIT8Gp",
        "outputId": "a664d71f-d667-4f82-96fc-5919ecd86b9e"
      },
      "execution_count": 10,
      "outputs": [
        {
          "output_type": "stream",
          "name": "stdout",
          "text": [
            "이름을 입력하세요 : 전지현\n",
            "시험 점수는 2점 입니다. 숙제 결과는 X입니다.\n",
            "[0, 0, 0, 0, 1]\n"
          ]
        }
      ]
    },
    {
      "cell_type": "code",
      "execution_count": 11,
      "metadata": {
        "colab": {
          "base_uri": "https://localhost:8080/"
        },
        "id": "5uOaiSVvXH1X",
        "outputId": "6dd941b7-50c1-47fb-ac4d-ee843e262645"
      },
      "outputs": [
        {
          "output_type": "stream",
          "name": "stdout",
          "text": [
            "이름을 입력하세요 : 전지현\n",
            "시험 점수는 2점 입니다. 숙제 결과는 X입니다.\n",
            "사탕 뽑기 시간!\n",
            "사탕을 뽑으려면 엔터를 눌러주세요\n",
            "사탕 0개를 얻었습니다!\n"
          ]
        }
      ],
      "source": [
        "list_luck = [1, 0, 0, 0, 0] #사탕을 받을 기본 확률은 20%입니다\n",
        "\n",
        "import time\n",
        "import random\n",
        "import csv\n",
        "data = csv.reader(open(\"3주.csv\",  encoding = \"cp949\"))\n",
        "next(data)\n",
        "\n",
        "input_name = input('이름을 입력하세요 : ')\n",
        "for d1 in data:\n",
        "  if d1[0] == input_name:\n",
        "    print('시험 점수는 {}점 입니다. 숙제 결과는 {}입니다.'.format(d1[1],d1[2]))\n",
        "\n",
        "if float(d1[1]) >= 5 :\n",
        "  list_luck.sort() and list_luck.pop(1) and list_luck.append(1)\n",
        "\n",
        "if d1[2] == 'O' :\n",
        "  list_luck.sort() and list_luck.pop(1) and list_luck.append(1)\n",
        "\n",
        "time.sleep(3)\n",
        "print('사탕 뽑기 시간!')\n",
        "time.sleep(3)\n",
        "input('사탕을 뽑으려면 엔터를 눌러주세요')\n",
        "\n",
        "random.shuffle(list_luck)\n",
        "print('사탕 {}개를 얻었습니다!'.format(list_luck[1]))"
      ]
    }
  ]
}